{
 "cells": [
  {
   "cell_type": "markdown",
   "id": "72ee055b-6342-47a9-9958-4e9cf377c972",
   "metadata": {},
   "source": [
    "import numpy as np\n",
    "import pandas as pd\n",
    "import matplotlib.pyplot as plt\n",
    "x=np.random.normal(170,10,250)\n",
    "plt.hist(x)\n",
    "plt.show()\n",
    "plt.plot(x)\n",
    "plt.show()"
   ]
  },
  {
   "cell_type": "code",
   "execution_count": 28,
   "id": "1092668a-a3f8-446d-980c-97cf20b8fed6",
   "metadata": {},
   "outputs": [
    {
     "name": "stdout",
     "output_type": "stream",
     "text": [
      "89.76923076923077\n"
     ]
    },
    {
     "ename": "NameError",
     "evalue": "name 'Stats' is not defined",
     "output_type": "error",
     "traceback": [
      "\u001b[1;31m---------------------------------------------------------------------------\u001b[0m",
      "\u001b[1;31mNameError\u001b[0m                                 Traceback (most recent call last)",
      "Cell \u001b[1;32mIn[28], line 5\u001b[0m\n\u001b[0;32m      3\u001b[0m speed\u001b[38;5;241m=\u001b[39mnp\u001b[38;5;241m.\u001b[39mmean(x)\n\u001b[0;32m      4\u001b[0m \u001b[38;5;28mprint\u001b[39m(speed)\n\u001b[1;32m----> 5\u001b[0m velocity\u001b[38;5;241m=\u001b[39mStats\u001b[38;5;241m.\u001b[39mmode(x)\n\u001b[0;32m      6\u001b[0m \u001b[38;5;28mprint\u001b[39m(velocity)\n",
      "\u001b[1;31mNameError\u001b[0m: name 'Stats' is not defined"
     ]
    }
   ],
   "source": [
    "import numpy as np\n",
    "x=([99,86,87,88,111,86,103,87,94,78,77,85,86])\n",
    "speed=np.mean(x)\n",
    "print(speed)\n",
    "velocity=Stats.mode(x)\n",
    "print(velocity)"
   ]
  },
  {
   "cell_type": "code",
   "execution_count": 36,
   "id": "037b50ef-783c-427d-a792-78b351406264",
   "metadata": {},
   "outputs": [
    {
     "name": "stdout",
     "output_type": "stream",
     "text": [
      "['Avogadro', 'Boltzmann', 'Btu', 'Btu_IT', 'Btu_th', 'ConstantWarning', 'G', 'Julian_year', 'N_A', 'Planck', 'R', 'Rydberg', 'Stefan_Boltzmann', 'Wien', '__all__', '__builtins__', '__cached__', '__doc__', '__file__', '__loader__', '__name__', '__package__', '__path__', '__spec__', '_codata', '_constants', '_obsolete_constants', 'acre', 'alpha', 'angstrom', 'arcmin', 'arcminute', 'arcsec', 'arcsecond', 'astronomical_unit', 'atm', 'atmosphere', 'atomic_mass', 'atto', 'au', 'bar', 'barrel', 'bbl', 'blob', 'c', 'calorie', 'calorie_IT', 'calorie_th', 'carat', 'centi', 'codata', 'constants', 'convert_temperature', 'day', 'deci', 'degree', 'degree_Fahrenheit', 'deka', 'dyn', 'dyne', 'e', 'eV', 'electron_mass', 'electron_volt', 'elementary_charge', 'epsilon_0', 'erg', 'exa', 'exbi', 'femto', 'fermi', 'find', 'fine_structure', 'fluid_ounce', 'fluid_ounce_US', 'fluid_ounce_imp', 'foot', 'g', 'gallon', 'gallon_US', 'gallon_imp', 'gas_constant', 'gibi', 'giga', 'golden', 'golden_ratio', 'grain', 'gram', 'gravitational_constant', 'h', 'hbar', 'hectare', 'hecto', 'horsepower', 'hour', 'hp', 'inch', 'k', 'kgf', 'kibi', 'kilo', 'kilogram_force', 'kmh', 'knot', 'lambda2nu', 'lb', 'lbf', 'light_year', 'liter', 'litre', 'long_ton', 'm_e', 'm_n', 'm_p', 'm_u', 'mach', 'mebi', 'mega', 'metric_ton', 'micro', 'micron', 'mil', 'mile', 'milli', 'minute', 'mmHg', 'mph', 'mu_0', 'nano', 'nautical_mile', 'neutron_mass', 'nu2lambda', 'ounce', 'oz', 'parsec', 'pebi', 'peta', 'physical_constants', 'pi', 'pico', 'point', 'pound', 'pound_force', 'precision', 'proton_mass', 'psi', 'pt', 'quecto', 'quetta', 'ronna', 'ronto', 'short_ton', 'sigma', 'slinch', 'slug', 'speed_of_light', 'speed_of_sound', 'stone', 'survey_foot', 'survey_mile', 'tebi', 'tera', 'test', 'ton_TNT', 'torr', 'troy_ounce', 'troy_pound', 'u', 'unit', 'value', 'week', 'yard', 'year', 'yobi', 'yocto', 'yotta', 'zebi', 'zepto', 'zero_Celsius', 'zetta']\n",
      "1024\n",
      "1048576\n",
      "1073741824\n"
     ]
    }
   ],
   "source": [
    "import scipy as sp\n",
    "from scipy import constants\n",
    "print(dir(constants))\n",
    "print(constants.kibi)\n",
    "print(constants.mebi)\n",
    "print(constants.gibi)\n"
   ]
  },
  {
   "cell_type": "code",
   "execution_count": 2,
   "id": "f5fdb175-e75d-44a2-8765-fc1a45245da2",
   "metadata": {},
   "outputs": [
    {
     "name": "stdout",
     "output_type": "stream",
     "text": [
      " message: Optimization terminated successfully.\n",
      " success: True\n",
      "  status: 0\n",
      "     fun: 1.75\n",
      "       x: [-5.000e-01]\n",
      "     nit: 2\n",
      "     jac: [ 2.980e-08]\n",
      "    nfev: 10\n",
      "    njev: 5\n"
     ]
    },
    {
     "ename": "TypeError",
     "evalue": "minimize() got an unexpected keyword argument 'option'",
     "output_type": "error",
     "traceback": [
      "\u001b[1;31m---------------------------------------------------------------------------\u001b[0m",
      "\u001b[1;31mTypeError\u001b[0m                                 Traceback (most recent call last)",
      "Cell \u001b[1;32mIn[2], line 6\u001b[0m\n\u001b[0;32m      4\u001b[0m mymin\u001b[38;5;241m=\u001b[39mminimize(eqn,\u001b[38;5;241m0\u001b[39m,method\u001b[38;5;241m=\u001b[39m\u001b[38;5;124m\"\u001b[39m\u001b[38;5;124mCG\u001b[39m\u001b[38;5;124m\"\u001b[39m)\n\u001b[0;32m      5\u001b[0m \u001b[38;5;28mprint\u001b[39m(mymin)\n\u001b[1;32m----> 6\u001b[0m \u001b[38;5;28mmin\u001b[39m\u001b[38;5;241m=\u001b[39mminimize(eqn,\u001b[38;5;241m0\u001b[39m,method\u001b[38;5;241m=\u001b[39m\u001b[38;5;124m\"\u001b[39m\u001b[38;5;124mTNC\u001b[39m\u001b[38;5;124m\"\u001b[39m,option\u001b[38;5;241m=\u001b[39m\u001b[38;5;124m\"\u001b[39m\u001b[38;5;124mdisp\u001b[39m\u001b[38;5;124m\"\u001b[39m)\n\u001b[0;32m      7\u001b[0m \u001b[38;5;28mprint\u001b[39m(\u001b[38;5;28mmin\u001b[39m)\n",
      "\u001b[1;31mTypeError\u001b[0m: minimize() got an unexpected keyword argument 'option'"
     ]
    }
   ],
   "source": [
    "from scipy.optimize import minimize\n",
    "def eqn(x):\n",
    "    return x**2+x+2   \n",
    "mymin=minimize(eqn,0,method=\"CG\")\n",
    "print(mymin)\n",
    "min=minimize(eqn,0,method=\"TNC\")\n",
    "print(min)"
   ]
  },
  {
   "cell_type": "code",
   "execution_count": 50,
   "id": "2587e675-8692-41a8-b920-80c6f1713c7a",
   "metadata": {},
   "outputs": [
    {
     "name": "stdout",
     "output_type": "stream",
     "text": [
      "[-0.73908513]\n"
     ]
    },
    {
     "name": "stderr",
     "output_type": "stream",
     "text": [
      "C:\\Users\\Funmi\\AppData\\Local\\Temp\\ipykernel_16880\\2989272106.py:4: DeprecationWarning: Conversion of an array with ndim > 0 to a scalar is deprecated, and will error in future. Ensure you extract a single element from your array before performing this operation. (Deprecated NumPy 1.25.)\n",
      "  return x+cos(x)\n"
     ]
    }
   ],
   "source": [
    "from scipy.optimize import root\n",
    "from math import cos\n",
    "def eqn(x):\n",
    "    return x+cos(x)\n",
    "myroot=root(eqn,0)\n",
    "print(myroot.x)"
   ]
  },
  {
   "cell_type": "code",
   "execution_count": 67,
   "id": "5c72f46a-4612-4bc1-bbda-0c945f14588e",
   "metadata": {},
   "outputs": [
    {
     "name": "stdout",
     "output_type": "stream",
     "text": [
      "18\n"
     ]
    }
   ],
   "source": [
    "import scipy\n",
    "def addition(x):\n",
    "    return x+2*x+3*x\n",
    "print(addition(3))\n",
    "   "
   ]
  },
  {
   "cell_type": "code",
   "execution_count": 3,
   "id": "db8dac39-fbf4-44dc-9a62-d5a33fa16153",
   "metadata": {},
   "outputs": [
    {
     "name": "stdout",
     "output_type": "stream",
     "text": [
      "  (0, 6)\t1\n",
      "  (0, 7)\t2\n",
      "  (0, 8)\t3\n",
      "  (0, 10)\t4\n",
      "  (2, 0)\t1\n",
      "  (2, 1)\t2\n",
      "  (2, 2)\t3\n",
      "  (3, 1)\t4\n",
      "  (2, 0)\t1\n",
      "  (2, 1)\t2\n",
      "  (2, 2)\t3\n",
      "  (3, 1)\t4\n"
     ]
    }
   ],
   "source": [
    "import numpy as np\n",
    "from scipy.sparse import csr_matrix\n",
    "arr=np.array([0,0,0,0,0,0,1,2,3,0,4,0])\n",
    "print(csr_matrix(arr))\n",
    "\n",
    "mat=csr_matrix(arri)\n",
    "mat.eliminate_zeros()\n",
    "print(mat)"
   ]
  },
  {
   "cell_type": "code",
   "execution_count": 2,
   "id": "0410d054-f15d-4ac0-867e-6ad50e958897",
   "metadata": {},
   "outputs": [
    {
     "ename": "NameError",
     "evalue": "name 'csr_matrix' is not defined",
     "output_type": "error",
     "traceback": [
      "\u001b[1;31m---------------------------------------------------------------------------\u001b[0m",
      "\u001b[1;31mNameError\u001b[0m                                 Traceback (most recent call last)",
      "Cell \u001b[1;32mIn[2], line 3\u001b[0m\n\u001b[0;32m      1\u001b[0m \u001b[38;5;28;01mimport\u001b[39;00m \u001b[38;5;21;01mnumpy\u001b[39;00m \u001b[38;5;28;01mas\u001b[39;00m \u001b[38;5;21;01mnp\u001b[39;00m\n\u001b[0;32m      2\u001b[0m arri\u001b[38;5;241m=\u001b[39mnp\u001b[38;5;241m.\u001b[39marray([[\u001b[38;5;241m0\u001b[39m,\u001b[38;5;241m0\u001b[39m,\u001b[38;5;241m0\u001b[39m],[\u001b[38;5;241m0\u001b[39m,\u001b[38;5;241m0\u001b[39m,\u001b[38;5;241m0\u001b[39m],[\u001b[38;5;241m1\u001b[39m,\u001b[38;5;241m2\u001b[39m,\u001b[38;5;241m3\u001b[39m],[\u001b[38;5;241m0\u001b[39m,\u001b[38;5;241m4\u001b[39m,\u001b[38;5;241m0\u001b[39m]])\n\u001b[1;32m----> 3\u001b[0m \u001b[38;5;28mprint\u001b[39m(csr_matrix(arri))\n",
      "\u001b[1;31mNameError\u001b[0m: name 'csr_matrix' is not defined"
     ]
    }
   ],
   "source": [
    "arri=np.array([[0,0,0],[0,0,0],[1,2,3],[0,4,0]])\n",
    "print(csr_matrix(arri))"
   ]
  },
  {
   "cell_type": "code",
   "execution_count": null,
   "id": "8e8ec101-0cfd-4031-b41b-856df5db4a98",
   "metadata": {},
   "outputs": [],
   "source": [
    "mat=csr_matrix(arri)\n",
    "mat.eliminate_zeros()\n",
    "print(mat)"
   ]
  },
  {
   "cell_type": "code",
   "execution_count": 6,
   "id": "39cffe4c-708a-4ce3-b4e3-3f1fe01da1bd",
   "metadata": {},
   "outputs": [
    {
     "name": "stdout",
     "output_type": "stream",
     "text": [
      "  message: Optimization terminated successfully.\n",
      "  success: True\n",
      "   status: 0\n",
      "      fun: 1.75\n",
      "        x: [-5.000e-01]\n",
      "      nit: 2\n",
      "      jac: [ 0.000e+00]\n",
      " hess_inv: [[ 5.000e-01]]\n",
      "     nfev: 8\n",
      "     njev: 4\n"
     ]
    }
   ],
   "source": [
    "from scipy.optimize import minimize\n",
    "def eqn(x):\n",
    "    return x**2+x+2\n",
    "min=minimize(eqn,0,method=\"BFGS\")\n",
    "print(min)"
   ]
  },
  {
   "cell_type": "code",
   "execution_count": 25,
   "id": "29ccde67-77b5-4df3-8199-97ebf0ffc7e0",
   "metadata": {},
   "outputs": [
    {
     "name": "stdout",
     "output_type": "stream",
     "text": [
      "4\n",
      "8\n",
      "  (0, 6)\t1\n",
      "  (0, 7)\t2\n",
      "  (0, 8)\t3\n",
      "  (0, 10)\t4\n",
      "  (1, 1)\t3\n",
      "  (1, 2)\t4\n",
      "  (1, 7)\t1\n",
      "  (1, 11)\t1\n",
      "  (0, 6)\t1\n",
      "  (0, 7)\t2\n",
      "  (0, 8)\t3\n",
      "  (0, 10)\t4\n",
      "  (1, 1)\t3\n",
      "  (1, 2)\t4\n",
      "  (1, 7)\t1\n",
      "  (1, 11)\t1\n"
     ]
    }
   ],
   "source": [
    "import numpy as np\n",
    "from scipy.sparse import csr_matrix\n",
    "arr=np.array([0,0,0,0,0,0,1,2,3,0,4,0])\n",
    "print(csr_matrix(arr).count_nonzero())\n",
    "from scipy.sparse import csc_matrix\n",
    "arr=np.array([[0,0,0,0,0,0,1,2,3,0,4,0],[0,3,4,0,0,0,0,1,0,0,0,1]])\n",
    "print(csc_matrix(arr).count_nonzero())\n",
    "i=np.array([[0,0,0,0,0,0,1,2,3,0,4,0],[0,3,4,0,0,0,0,1,0,0,0,1]])\n",
    "mat=csr_matrix(i)\n",
    "mat.eliminate_zeros()\n",
    "print(mat)\n",
    "mat.sum_duplicates()\n",
    "print(mat)"
   ]
  },
  {
   "cell_type": "code",
   "execution_count": 37,
   "id": "e5961ab6-ae13-46e5-be73-f37f6781c7de",
   "metadata": {},
   "outputs": [
    {
     "name": "stdout",
     "output_type": "stream",
     "text": [
      "  (0, 0)\t1\n",
      "  (1, 0)\t1\n",
      "  (2, 0)\t1\n",
      "  (0, 1)\t2\n",
      "  (1, 1)\t2\n",
      "  (2, 1)\t1\n",
      "  (0, 2)\t2\n",
      "  (1, 2)\t1\n",
      "  (2, 2)\t1\n"
     ]
    }
   ],
   "source": [
    "from scipy.sparse import csr\n",
    "import numpy as np\n",
    "arr=np.array([[1,2,2],[1,2,1],[1,1,1]])\n",
    "newarray=csr_matrix(arr).tocsc()\n",
    "print(newarray)"
   ]
  },
  {
   "cell_type": "code",
   "execution_count": 38,
   "id": "78186119-2ffb-4ec6-9e98-e448ab710a64",
   "metadata": {},
   "outputs": [
    {
     "name": "stdout",
     "output_type": "stream",
     "text": [
      "(1, array([0, 0, 0]))\n"
     ]
    }
   ],
   "source": [
    "import numpy as np\n",
    "from scipy.sparse.csgraph import connected_components\n",
    "from scipy.sparse import csr_array\n",
    "arr=np.array([[0,1,2],[1,0,0],[2,0,0]])\n",
    "newarr=csr_matrix(arr)\n",
    "print(connected_components(newarr))"
   ]
  },
  {
   "cell_type": "code",
   "execution_count": 40,
   "id": "9815e099-5833-4753-9862-2dc79a30a587",
   "metadata": {},
   "outputs": [
    {
     "name": "stdout",
     "output_type": "stream",
     "text": [
      "(array([0., 1., 2.]), array([-9999,     0,     0]))\n"
     ]
    }
   ],
   "source": [
    "import numpy as np\n",
    "from scipy.sparse.csgraph import dijkstra\n",
    "from scipy.sparse import csr_array\n",
    "arr=np.array([[0,1,2],[1,0,0],[2,0,0]])\n",
    "newarr=csr_matrix(arr)\n",
    "print(dijkstra(newarr,return_predecessors=True,indices=0))"
   ]
  },
  {
   "cell_type": "code",
   "execution_count": null,
   "id": "55ea6d06-3bd9-4f0e-86d5-e65694103e62",
   "metadata": {},
   "outputs": [],
   "source": []
  },
  {
   "cell_type": "code",
   "execution_count": null,
   "id": "285cce59-0707-4c4a-82a0-092fb1255191",
   "metadata": {},
   "outputs": [],
   "source": []
  },
  {
   "cell_type": "code",
   "execution_count": null,
   "id": "f3c56df3-dec7-4187-a2d0-e282ff99dda1",
   "metadata": {},
   "outputs": [],
   "source": []
  },
  {
   "cell_type": "code",
   "execution_count": null,
   "id": "fa6aa15e-b87b-43b8-9ddc-d706ddd3fbe5",
   "metadata": {},
   "outputs": [],
   "source": []
  },
  {
   "cell_type": "code",
   "execution_count": null,
   "id": "a4f0c08b-7010-4a36-8e5b-56dc168f63fb",
   "metadata": {},
   "outputs": [],
   "source": []
  }
 ],
 "metadata": {
  "kernelspec": {
   "display_name": "Python 3 (ipykernel)",
   "language": "python",
   "name": "python3"
  },
  "language_info": {
   "codemirror_mode": {
    "name": "ipython",
    "version": 3
   },
   "file_extension": ".py",
   "mimetype": "text/x-python",
   "name": "python",
   "nbconvert_exporter": "python",
   "pygments_lexer": "ipython3",
   "version": "3.11.7"
  }
 },
 "nbformat": 4,
 "nbformat_minor": 5
}
