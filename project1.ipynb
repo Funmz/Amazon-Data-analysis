{
 "cells": [
  {
   "cell_type": "code",
   "execution_count": 32,
   "id": "154488a6-cadf-4f00-920d-6eb5299e9c5f",
   "metadata": {},
   "outputs": [
    {
     "name": "stdout",
     "output_type": "stream",
     "text": [
      "     Invoice ID Branch       City Customer type  Gender  \\\n",
      "0   750-67-8428      A     Yangon        Member  Female   \n",
      "1   226-31-3081      C  Naypyitaw        Normal  Female   \n",
      "2   631-41-3108      A     Yangon        Normal    Male   \n",
      "3   123-19-1176      A     Yangon        Member    Male   \n",
      "4   373-73-7910      A     Yangon        Normal    Male   \n",
      "5   699-14-3026      C  Naypyitaw        Normal    Male   \n",
      "6   355-53-5943      A     Yangon        Member  Female   \n",
      "7   315-22-5665      C  Naypyitaw        Normal  Female   \n",
      "8   665-32-9167      A     Yangon        Member  Female   \n",
      "9   692-92-5582      B   Mandalay        Member  Female   \n",
      "10  351-62-0822      B   Mandalay        Member  Female   \n",
      "11  529-56-3974      B   Mandalay        Member    Male   \n",
      "12  365-64-0515      A     Yangon        Normal  Female   \n",
      "13  252-56-2699      A     Yangon        Normal    Male   \n",
      "14  829-34-3910      A     Yangon        Normal  Female   \n",
      "15  299-46-1805      B   Mandalay        Member  Female   \n",
      "16  656-95-9349      A     Yangon        Member  Female   \n",
      "17  765-26-6951      A     Yangon        Normal    Male   \n",
      "18  329-62-1586      A     Yangon        Normal    Male   \n",
      "19  319-50-3348      B   Mandalay        Normal  Female   \n",
      "\n",
      "              Product line  Unit price  Quantity   Tax 5%     Total  \\\n",
      "0        Health and beauty       74.69         7  26.1415  548.9715   \n",
      "1   Electronic accessories       15.28         5   3.8200   80.2200   \n",
      "2       Home and lifestyle       46.33         7  16.2155  340.5255   \n",
      "3        Health and beauty       58.22         8  23.2880  489.0480   \n",
      "4        Sports and travel       86.31         7  30.2085  634.3785   \n",
      "5   Electronic accessories       85.39         7  29.8865  627.6165   \n",
      "6   Electronic accessories       68.84         6  20.6520  433.6920   \n",
      "7       Home and lifestyle       73.56        10  36.7800  772.3800   \n",
      "8        Health and beauty       36.26         2   3.6260   76.1460   \n",
      "9       Food and beverages       54.84         3   8.2260  172.7460   \n",
      "10     Fashion accessories       14.48         4   2.8960   60.8160   \n",
      "11  Electronic accessories       25.51         4   5.1020  107.1420   \n",
      "12  Electronic accessories       46.95         5  11.7375  246.4875   \n",
      "13      Food and beverages       43.19        10  21.5950  453.4950   \n",
      "14       Health and beauty       71.38        10  35.6900  749.4900   \n",
      "15       Sports and travel       93.72         6  28.1160  590.4360   \n",
      "16       Health and beauty       68.93         7  24.1255  506.6355   \n",
      "17       Sports and travel         NaN         6  21.7830  457.4430   \n",
      "18      Food and beverages       54.67         3   8.2005  172.2105   \n",
      "19      Home and lifestyle       40.30         2   4.0300   84.6300   \n",
      "\n",
      "         Date   Time      Payment    cogs  gross margin percentage  \\\n",
      "0    1/5/2019  13:08      Ewallet  522.83                 4.761905   \n",
      "1    3/8/2019  10:29         Cash   76.40                 4.761905   \n",
      "2    3/3/2019  13:23  Credit card  324.31                 4.761905   \n",
      "3   1/27/2019  20:33      Ewallet  465.76                 4.761905   \n",
      "4    2/8/2019  10:37      Ewallet  604.17                 4.761905   \n",
      "5   3/25/2019  18:30      Ewallet  597.73                 4.761905   \n",
      "6   2/25/2019  14:36      Ewallet  413.04                 4.761905   \n",
      "7   2/24/2019  11:38      Ewallet  735.60                 4.761905   \n",
      "8   1/10/2019  17:15  Credit card   72.52                 4.761905   \n",
      "9   2/20/2019  13:27  Credit card  164.52                 4.761905   \n",
      "10   2/6/2019  18:07      Ewallet   57.92                 4.761905   \n",
      "11   3/9/2019  17:03         Cash  102.04                 4.761905   \n",
      "12  2/12/2019  10:25      Ewallet  234.75                 4.761905   \n",
      "13   2/7/2019  16:48      Ewallet  431.90                 4.761905   \n",
      "14  3/29/2019  19:21         Cash  713.80                 4.761905   \n",
      "15  1/15/2019  16:19         Cash  562.32                 4.761905   \n",
      "16  3/11/2019  11:03  Credit card  482.51                 4.761905   \n",
      "17   1/1/2019  10:39  Credit card  435.66                 4.761905   \n",
      "18  1/21/2019  18:00  Credit card  164.01                 4.761905   \n",
      "19  3/11/2019  15:30      Ewallet   80.60                 4.761905   \n",
      "\n",
      "    gross income  Rating  \n",
      "0        26.1415     9.1  \n",
      "1         3.8200     9.6  \n",
      "2        16.2155     7.4  \n",
      "3        23.2880     8.4  \n",
      "4        30.2085     5.3  \n",
      "5        29.8865     4.1  \n",
      "6        20.6520     5.8  \n",
      "7        36.7800     8.0  \n",
      "8         3.6260     7.2  \n",
      "9         8.2260     5.9  \n",
      "10        2.8960     4.5  \n",
      "11        5.1020     6.8  \n",
      "12       11.7375     7.1  \n",
      "13       21.5950     8.2  \n",
      "14       35.6900     5.7  \n",
      "15       28.1160     4.5  \n",
      "16       24.1255     4.6  \n",
      "17       21.7830     6.9  \n",
      "18        8.2005     8.6  \n",
      "19        4.0300     4.4  \n",
      "      Invoice ID Branch       City Customer type  Gender  \\\n",
      "980  728-47-9078      C  Naypyitaw        Member    Male   \n",
      "981  809-46-1866      A     Yangon        Normal    Male   \n",
      "982  139-32-4183      A     Yangon        Member  Female   \n",
      "983  148-41-7930      C  Naypyitaw        Normal    Male   \n",
      "984  189-40-5216      C  Naypyitaw        Normal    Male   \n",
      "985  374-38-5555      B   Mandalay        Normal  Female   \n",
      "986  764-44-8999      B   Mandalay        Normal  Female   \n",
      "987  552-44-5977      B   Mandalay        Member    Male   \n",
      "988  267-62-7380      C  Naypyitaw        Member    Male   \n",
      "989  430-53-4718      B   Mandalay        Member    Male   \n",
      "990  886-18-2897      A     Yangon        Normal  Female   \n",
      "991  602-16-6955      B   Mandalay        Normal  Female   \n",
      "992  745-74-0715      A     Yangon        Normal    Male   \n",
      "993  690-01-6631      B   Mandalay        Normal    Male   \n",
      "994  652-49-6720      C  Naypyitaw        Member  Female   \n",
      "995  233-67-5758      C  Naypyitaw        Normal    Male   \n",
      "996  303-96-2227      B   Mandalay        Normal  Female   \n",
      "997  727-02-1313      A     Yangon        Member    Male   \n",
      "998  347-56-2442      A     Yangon        Normal    Male   \n",
      "999  849-09-3807      A     Yangon        Member  Female   \n",
      "\n",
      "               Product line  Unit price  Quantity   Tax 5%      Total  \\\n",
      "980      Food and beverages       59.59         4  11.9180   250.2780   \n",
      "981       Health and beauty       58.15         4  11.6300   244.2300   \n",
      "982       Sports and travel       97.48         9  43.8660   921.1860   \n",
      "983       Health and beauty       99.96         7  34.9860   734.7060   \n",
      "984  Electronic accessories       96.37         7  33.7295   708.3195   \n",
      "985     Fashion accessories       63.71         5  15.9275   334.4775   \n",
      "986       Health and beauty       14.76         2   1.4760    30.9960   \n",
      "987       Health and beauty       62.00         8  24.8000   520.8000   \n",
      "988  Electronic accessories       82.34        10  41.1700   864.5700   \n",
      "989       Health and beauty       75.37         8  30.1480   633.1080   \n",
      "990      Food and beverages       56.56         5  14.1400   296.9400   \n",
      "991       Sports and travel       76.60        10  38.3000   804.3000   \n",
      "992  Electronic accessories       58.03         2   5.8030   121.8630   \n",
      "993     Fashion accessories       17.49        10   8.7450   183.6450   \n",
      "994  Electronic accessories       60.95         1   3.0475    63.9975   \n",
      "995       Health and beauty       40.35         1   2.0175    42.3675   \n",
      "996      Home and lifestyle       97.38        10  48.6900  1022.4900   \n",
      "997      Food and beverages       31.84         1   1.5920    33.4320   \n",
      "998      Home and lifestyle       65.82         1   3.2910    69.1110   \n",
      "999     Fashion accessories       88.34         7  30.9190   649.2990   \n",
      "\n",
      "          Date   Time      Payment    cogs  gross margin percentage  \\\n",
      "980  1/19/2019  12:46         Cash  238.36                 4.761905   \n",
      "981  1/23/2019  17:44         Cash  232.60                 4.761905   \n",
      "982  3/14/2019  14:19      Ewallet  877.32                 4.761905   \n",
      "983  1/23/2019  10:33         Cash  699.72                 4.761905   \n",
      "984   1/9/2019  11:40         Cash  674.59                 4.761905   \n",
      "985   2/7/2019  19:30      Ewallet  318.55                 4.761905   \n",
      "986  2/18/2019  14:42      Ewallet   29.52                 4.761905   \n",
      "987   1/3/2019  19:08  Credit card  496.00                 4.761905   \n",
      "988  3/29/2019  19:12      Ewallet  823.40                 4.761905   \n",
      "989  1/28/2019  15:46  Credit card  602.96                 4.761905   \n",
      "990  3/22/2019  19:06  Credit card  282.80                 4.761905   \n",
      "991  1/24/2019  18:10      Ewallet  766.00                 4.761905   \n",
      "992  3/10/2019  20:46      Ewallet  116.06                 4.761905   \n",
      "993  2/22/2019  18:35      Ewallet  174.90                 4.761905   \n",
      "994  2/18/2019  11:40      Ewallet   60.95                 4.761905   \n",
      "995  1/29/2019  13:46      Ewallet   40.35                 4.761905   \n",
      "996   3/2/2019  17:16      Ewallet  973.80                 4.761905   \n",
      "997   2/9/2019  13:22         Cash   31.84                 4.761905   \n",
      "998  2/22/2019  15:33         Cash   65.82                 4.761905   \n",
      "999  2/18/2019  13:28         Cash  618.38                 4.761905   \n",
      "\n",
      "     gross income  Rating  \n",
      "980       11.9180     9.8  \n",
      "981       11.6300     8.4  \n",
      "982       43.8660     7.4  \n",
      "983       34.9860     6.1  \n",
      "984       33.7295     6.0  \n",
      "985       15.9275     8.5  \n",
      "986        1.4760     4.3  \n",
      "987       24.8000     6.2  \n",
      "988       41.1700     4.3  \n",
      "989       30.1480     8.4  \n",
      "990       14.1400     4.5  \n",
      "991       38.3000     6.0  \n",
      "992        5.8030     8.8  \n",
      "993        8.7450     6.6  \n",
      "994        3.0475     5.9  \n",
      "995        2.0175     6.2  \n",
      "996       48.6900     4.4  \n",
      "997        1.5920     7.7  \n",
      "998        3.2910     4.1  \n",
      "999       30.9190     6.6  \n"
     ]
    },
    {
     "data": {
      "image/png": "[encoded data removed]",
      "text/plain": [
       "<Figure size 640x480 with 1 Axes>"
      ]
     },
     "metadata": {},
     "output_type": "display_data"
    },
    {
     "name": "stdout",
     "output_type": "stream",
     "text": [
      "            Unit price\n",
      "Unit price         1.0\n",
      "          Unit price\n",
      "Quantity            \n",
      "7              73.56\n",
      "5              85.39\n",
      "7              73.56\n",
      "8              36.26\n",
      "7              73.56\n",
      "7              73.56\n",
      "6              68.84\n",
      "10             14.48\n",
      "2              46.33\n",
      "3              58.22\n",
      "4              86.31\n",
      "4              86.31\n",
      "5              85.39\n",
      "10             14.48\n",
      "10             14.48\n",
      "6              68.84\n",
      "7              73.56\n",
      "6              68.84\n",
      "3              58.22\n",
      "2              46.33\n",
      "SignificanceResult(statistic=nan, pvalue=nan)\n"
     ]
    },
    {
     "data": {
      "text/plain": [
       "<function matplotlib.pyplot.show(close=None, block=None)>"
      ]
     },
     "execution_count": 32,
     "metadata": {},
     "output_type": "execute_result"
    },
    {
     "data": {
      "image/png": "[encoded data removed]",
      "text/plain": [
       "<Figure size 640x480 with 2 Axes>"
      ]
     },
     "metadata": {},
     "output_type": "display_data"
    }
   ],
   "source": [
    "import numpy as np\n",
    "import pandas as pd\n",
    "import matplotlib.pyplot as plt\n",
    "import seaborn as snb\n",
    "data=pd.read_csv(\"C:/Users/Funmi/Downloads/supermarket_sales - Sheet1 (1).csv\")\n",
    "num=[]\n",
    "cat=[]\n",
    "print(data.head(20))\n",
    "print(data.tail(20))\n",
    "# data.isnull().sum()\n",
    "# data.dropna()\n",
    "# data.describe()\n",
    "# plt.xlabel(\"quantity of product produced\")\n",
    "# plt.ylabel(\"price of product\")\n",
    "\n",
    "dat1=data.head(20)[\"Payment\"]\n",
    "dat2=data.head(20)[\"cogs\"]\n",
    "dat3=data.head(20)[\"Unit price\"]\n",
    "dat4=data.head(20)[\"Quantity\"]\n",
    "#print(data[1:10])\n",
    "plt.scatter(dat1,dat2,color=\"red\")\n",
    "plt.show()\n",
    "df=pd.DataFrame(dat3,dat4)\n",
    "print(df.corr(method=\"pearson\"))\n",
    "print(df)\n",
    "from scipy import stats\n",
    "spearman_corr=stats.spearmanr(dat4,dat3)\n",
    "print(spearman_corr)\n",
    "snb.heatmap(df.corr(),annot=True,cmap=\"coolwarm\")\n",
    "plt.show\n",
    "# # plt\n"
   ]
  },
  {
   "cell_type": "code",
   "execution_count": 35,
   "id": "b175bec1-cc6d-46dd-8a7f-d6ef4c7c6b11",
   "metadata": {},
   "outputs": [
    {
     "name": "stdout",
     "output_type": "stream",
     "text": [
      "0     2019-01-05\n",
      "1     2019-03-08\n",
      "2     2019-03-03\n",
      "3     2019-01-27\n",
      "4     2019-02-08\n",
      "         ...    \n",
      "995   2019-01-29\n",
      "996   2019-03-02\n",
      "997   2019-02-09\n",
      "998   2019-02-22\n",
      "999   2019-02-18\n",
      "Name: Date, Length: 1000, dtype: datetime64[ns]\n"
     ]
    }
   ],
   "source": [
    "data[\"Date\"]=pd.to_datetime(data[\"Date\"])\n",
    "print(data[\"Date\"])"
   ]
  },
  {
   "cell_type": "code",
   "execution_count": 31,
   "id": "1cc7e787-efbc-4464-b0c4-3d1c903429f1",
   "metadata": {},
   "outputs": [
    {
     "name": "stdout",
     "output_type": "stream",
     "text": [
      "[-2.]\n",
      "  message: Desired error not necessarily achieved due to precision loss.\n",
      "  success: False\n",
      "   status: 2\n",
      "      fun: -1072694266.0\n",
      "        x: [-1.024e+03]\n",
      "      nit: 1\n",
      "      jac: [ 3.144e+06]\n",
      " hess_inv: [[-3.257e-04]]\n",
      "     nfev: 236\n",
      "     njev: 112\n"
     ]
    }
   ],
   "source": [
    "from scipy.optimize import root\n",
    "from scipy.optimize import minimize\n",
    "def eqn(x):\n",
    "    return x**3+x**2+x+6\n",
    "equation=root(eqn,0)\n",
    "print(equation.x)\n",
    "def eqn(x):\n",
    "    return x**3+x**2+x+6\n",
    "equation=minimize(eqn,0)\n",
    "print(equation)\n"
   ]
  },
  {
   "cell_type": "code",
   "execution_count": 10,
   "id": "d2e84406-ba26-45f0-acf9-72c245085f2f",
   "metadata": {},
   "outputs": [
    {
     "name": "stdout",
     "output_type": "stream",
     "text": [
      "0      26.1415\n",
      "1       3.8200\n",
      "2      16.2155\n",
      "3      23.2880\n",
      "4      30.2085\n",
      "        ...   \n",
      "995     2.0175\n",
      "996    48.6900\n",
      "997     1.5920\n",
      "998     3.2910\n",
      "999    30.9190\n",
      "Name: Tax 5%, Length: 1000, dtype: float64\n"
     ]
    }
   ],
   "source": [
    "data[\"Tax 5%\"]=data[\"Tax 5%\"].astype(str).str.replace(r\"(%,)\",\"\",regex=True).astype(float)\n",
    "print(data[\"Tax 5%\"])\n"
   ]
  },
  {
   "cell_type": "code",
   "execution_count": 15,
   "id": "c211c73f-9d21-4d80-82ed-3009947bd3f7",
   "metadata": {},
   "outputs": [
    {
     "name": "stdout",
     "output_type": "stream",
     "text": [
      "0      74.69\n",
      "1      15.28\n",
      "2      46.33\n",
      "3      58.22\n",
      "4      86.31\n",
      "       ...  \n",
      "995    40.35\n",
      "996    97.38\n",
      "997    31.84\n",
      "998    65.82\n",
      "999    88.34\n",
      "Name: Unit price, Length: 1000, dtype: float64\n"
     ]
    }
   ],
   "source": [
    "data[\"Unit price\"]=data[\"Unit price\"].astype(str).str.replace(r\"(%,)\",\"\").astype(float)\n",
    "print(data[\"Unit price\"])"
   ]
  },
  {
   "cell_type": "code",
   "execution_count": 37,
   "id": "0fd826f4-46d2-4c87-b934-5f07bd112a86",
   "metadata": {},
   "outputs": [
    {
     "name": "stdout",
     "output_type": "stream",
     "text": [
      "307587.38\n"
     ]
    }
   ],
   "source": [
    "total_revenue=data[\"cogs\"].sum()\n",
    "print(total_revenue)"
   ]
  },
  {
   "cell_type": "code",
   "execution_count": 46,
   "id": "360bf903-828e-4dfe-8b9a-26d4f6d95167",
   "metadata": {},
   "outputs": [
    {
     "name": "stdout",
     "output_type": "stream",
     "text": [
      "<pandas.core.groupby.generic.DataFrameGroupBy object at 0x0000022ED5177BD0>\n"
     ]
    }
   ],
   "source": [
    "payment_prod=data.groupby(\"Payment\")\n",
    "print(payment_prod)"
   ]
  },
  {
   "cell_type": "code",
   "execution_count": null,
   "id": "8e0cc4b8-6976-47d5-9bbc-01f6bc35570d",
   "metadata": {},
   "outputs": [],
   "source": []
  }
 ],
 "metadata": {
  "kernelspec": {
   "display_name": "Python 3 (ipykernel)",
   "language": "python",
   "name": "python3"
  },
  "language_info": {
   "codemirror_mode": {
    "name": "ipython",
    "version": 3
   },
   "file_extension": ".py",
   "mimetype": "text/x-python",
   "name": "python",
   "nbconvert_exporter": "python",
   "pygments_lexer": "ipython3",
   "version": "3.11.7"
  }
 },
 "nbformat": 4,
 "nbformat_minor": 5
}
